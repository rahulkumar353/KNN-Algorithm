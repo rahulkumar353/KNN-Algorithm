{
 "cells": [
  {
   "cell_type": "code",
   "execution_count": 1,
   "metadata": {},
   "outputs": [],
   "source": [
    "import numpy as np\n",
    "import pandas as pd\n",
    "import matplotlib.pyplot as plt"
   ]
  },
  {
   "cell_type": "code",
   "execution_count": 3,
   "metadata": {},
   "outputs": [
    {
     "data": {
      "text/html": [
       "<div>\n",
       "<style scoped>\n",
       "    .dataframe tbody tr th:only-of-type {\n",
       "        vertical-align: middle;\n",
       "    }\n",
       "\n",
       "    .dataframe tbody tr th {\n",
       "        vertical-align: top;\n",
       "    }\n",
       "\n",
       "    .dataframe thead th {\n",
       "        text-align: right;\n",
       "    }\n",
       "</style>\n",
       "<table border=\"1\" class=\"dataframe\">\n",
       "  <thead>\n",
       "    <tr style=\"text-align: right;\">\n",
       "      <th></th>\n",
       "      <th>User ID</th>\n",
       "      <th>Gender</th>\n",
       "      <th>Age</th>\n",
       "      <th>EstimatedSalary</th>\n",
       "      <th>Purchased</th>\n",
       "    </tr>\n",
       "  </thead>\n",
       "  <tbody>\n",
       "    <tr>\n",
       "      <th>0</th>\n",
       "      <td>15624510</td>\n",
       "      <td>Male</td>\n",
       "      <td>19</td>\n",
       "      <td>19000</td>\n",
       "      <td>0</td>\n",
       "    </tr>\n",
       "    <tr>\n",
       "      <th>1</th>\n",
       "      <td>15810944</td>\n",
       "      <td>Male</td>\n",
       "      <td>35</td>\n",
       "      <td>20000</td>\n",
       "      <td>0</td>\n",
       "    </tr>\n",
       "    <tr>\n",
       "      <th>2</th>\n",
       "      <td>15668575</td>\n",
       "      <td>Female</td>\n",
       "      <td>26</td>\n",
       "      <td>43000</td>\n",
       "      <td>0</td>\n",
       "    </tr>\n",
       "    <tr>\n",
       "      <th>3</th>\n",
       "      <td>15603246</td>\n",
       "      <td>Female</td>\n",
       "      <td>27</td>\n",
       "      <td>57000</td>\n",
       "      <td>0</td>\n",
       "    </tr>\n",
       "    <tr>\n",
       "      <th>4</th>\n",
       "      <td>15804002</td>\n",
       "      <td>Male</td>\n",
       "      <td>19</td>\n",
       "      <td>76000</td>\n",
       "      <td>0</td>\n",
       "    </tr>\n",
       "    <tr>\n",
       "      <th>...</th>\n",
       "      <td>...</td>\n",
       "      <td>...</td>\n",
       "      <td>...</td>\n",
       "      <td>...</td>\n",
       "      <td>...</td>\n",
       "    </tr>\n",
       "    <tr>\n",
       "      <th>395</th>\n",
       "      <td>15691863</td>\n",
       "      <td>Female</td>\n",
       "      <td>46</td>\n",
       "      <td>41000</td>\n",
       "      <td>1</td>\n",
       "    </tr>\n",
       "    <tr>\n",
       "      <th>396</th>\n",
       "      <td>15706071</td>\n",
       "      <td>Male</td>\n",
       "      <td>51</td>\n",
       "      <td>23000</td>\n",
       "      <td>1</td>\n",
       "    </tr>\n",
       "    <tr>\n",
       "      <th>397</th>\n",
       "      <td>15654296</td>\n",
       "      <td>Female</td>\n",
       "      <td>50</td>\n",
       "      <td>20000</td>\n",
       "      <td>1</td>\n",
       "    </tr>\n",
       "    <tr>\n",
       "      <th>398</th>\n",
       "      <td>15755018</td>\n",
       "      <td>Male</td>\n",
       "      <td>36</td>\n",
       "      <td>33000</td>\n",
       "      <td>0</td>\n",
       "    </tr>\n",
       "    <tr>\n",
       "      <th>399</th>\n",
       "      <td>15594041</td>\n",
       "      <td>Female</td>\n",
       "      <td>49</td>\n",
       "      <td>36000</td>\n",
       "      <td>1</td>\n",
       "    </tr>\n",
       "  </tbody>\n",
       "</table>\n",
       "<p>400 rows × 5 columns</p>\n",
       "</div>"
      ],
      "text/plain": [
       "      User ID  Gender  Age  EstimatedSalary  Purchased\n",
       "0    15624510    Male   19            19000          0\n",
       "1    15810944    Male   35            20000          0\n",
       "2    15668575  Female   26            43000          0\n",
       "3    15603246  Female   27            57000          0\n",
       "4    15804002    Male   19            76000          0\n",
       "..        ...     ...  ...              ...        ...\n",
       "395  15691863  Female   46            41000          1\n",
       "396  15706071    Male   51            23000          1\n",
       "397  15654296  Female   50            20000          1\n",
       "398  15755018    Male   36            33000          0\n",
       "399  15594041  Female   49            36000          1\n",
       "\n",
       "[400 rows x 5 columns]"
      ]
     },
     "execution_count": 3,
     "metadata": {},
     "output_type": "execute_result"
    }
   ],
   "source": [
    "data=pd.read_csv('Social_Network_Ads.csv')\n",
    "data"
   ]
  },
  {
   "cell_type": "code",
   "execution_count": 3,
   "metadata": {},
   "outputs": [
    {
     "data": {
      "text/plain": [
       "(400, 2)"
      ]
     },
     "execution_count": 3,
     "metadata": {},
     "output_type": "execute_result"
    }
   ],
   "source": [
    "X=data.iloc[:,2:4].values    # input\n",
    "X.shape"
   ]
  },
  {
   "cell_type": "code",
   "execution_count": 4,
   "metadata": {},
   "outputs": [
    {
     "data": {
      "text/plain": [
       "(400,)"
      ]
     },
     "execution_count": 4,
     "metadata": {},
     "output_type": "execute_result"
    }
   ],
   "source": [
    "y=data.iloc[:,-1].values    # output\n",
    "y.shape"
   ]
  },
  {
   "cell_type": "code",
   "execution_count": 5,
   "metadata": {},
   "outputs": [],
   "source": [
    "from sklearn.model_selection import train_test_split\n",
    "X_train,X_test,y_train,y_test=train_test_split(X,y,test_size=0.2)"
   ]
  },
  {
   "cell_type": "code",
   "execution_count": 6,
   "metadata": {},
   "outputs": [
    {
     "data": {
      "text/plain": [
       "(320, 2)"
      ]
     },
     "execution_count": 6,
     "metadata": {},
     "output_type": "execute_result"
    }
   ],
   "source": [
    "X_train.shape"
   ]
  },
  {
   "cell_type": "code",
   "execution_count": 7,
   "metadata": {},
   "outputs": [
    {
     "data": {
      "text/plain": [
       "(80, 2)"
      ]
     },
     "execution_count": 7,
     "metadata": {},
     "output_type": "execute_result"
    }
   ],
   "source": [
    "X_test.shape"
   ]
  },
  {
   "cell_type": "code",
   "execution_count": 8,
   "metadata": {},
   "outputs": [],
   "source": [
    "from sklearn.preprocessing import StandardScaler\n",
    "scaler=StandardScaler()"
   ]
  },
  {
   "cell_type": "code",
   "execution_count": 9,
   "metadata": {},
   "outputs": [
    {
     "data": {
      "text/plain": [
       "array([[-0.25231799,  1.11110693],\n",
       "       [ 0.23643356, -0.6964443 ],\n",
       "       [ 1.21393667, -1.49650796],\n",
       "       [ 1.31168698, -1.407612  ],\n",
       "       [ 0.92068574, -0.81497225],\n",
       "       [ 1.31168698,  1.8815386 ],\n",
       "       [ 0.82293543, -1.407612  ],\n",
       "       [-0.54556892,  1.37779481],\n",
       "       [-1.03432047, -1.1705561 ],\n",
       "       [ 1.11618636,  2.08896251],\n",
       "       [ 1.89818884,  0.10361936],\n",
       "       [ 0.13868325,  0.25177929],\n",
       "       [ 2.09368946,  1.76301065],\n",
       "       [ 0.23643356,  1.08147494],\n",
       "       [-0.93657016, -1.14092411],\n",
       "       [-1.52307202, -0.22233251],\n",
       "       [ 2.09368946,  2.14822649],\n",
       "       [-0.25231799, -0.6964443 ],\n",
       "       [ 0.04093294,  0.01472339],\n",
       "       [ 1.21393667,  0.51846718],\n",
       "       [-0.05681737, -0.4593884 ],\n",
       "       [-0.15456768,  0.13325134],\n",
       "       [ 0.04093294,  1.25926686],\n",
       "       [-0.83881985,  2.29638642],\n",
       "       [-0.25231799,  0.19251532],\n",
       "       [-1.13207078, -1.61503591],\n",
       "       [ 1.01843605,  2.00006655],\n",
       "       [-0.64331923,  0.10361936],\n",
       "       [ 1.89818884, -1.31871604],\n",
       "       [ 0.13868325,  0.01472339],\n",
       "       [ 1.5071876 ,  0.34067526],\n",
       "       [-0.74106954, -0.25196449],\n",
       "       [-0.74106954,  0.54809917],\n",
       "       [ 2.19143977,  1.11110693],\n",
       "       [-0.64331923,  0.01472339],\n",
       "       [ 0.33418387, -0.57791635],\n",
       "       [-0.05681737, -1.11129213],\n",
       "       [ 0.82293543,  1.37779481],\n",
       "       [-0.05681737, -0.01490859],\n",
       "       [-1.42532171, -1.49650796],\n",
       "       [-0.54556892,  1.37779481],\n",
       "       [ 0.04093294, -0.57791635],\n",
       "       [-0.64331923, -0.07417257],\n",
       "       [-0.05681737,  0.04435538],\n",
       "       [-1.3275714 , -0.4593884 ],\n",
       "       [ 0.6274348 ,  2.02969854],\n",
       "       [ 0.33418387,  0.25177929],\n",
       "       [ 1.11618636, -0.16306853],\n",
       "       [-0.74106954,  0.48883519],\n",
       "       [ 0.43193418, -0.01490859],\n",
       "       [-0.05681737,  0.22214731],\n",
       "       [-1.3275714 , -1.407612  ],\n",
       "       [-0.44781861,  2.32601841],\n",
       "       [-0.64331923, -0.37049244],\n",
       "       [-1.3275714 , -1.28908405],\n",
       "       [ 1.01843605, -1.05202815],\n",
       "       [-0.44781861, -1.1705561 ],\n",
       "       [ 1.99593915, -0.6964443 ],\n",
       "       [-0.83881985,  0.37030724],\n",
       "       [-0.05681737,  0.01472339],\n",
       "       [-1.3275714 , -0.37049244],\n",
       "       [ 0.43193418,  0.25177929],\n",
       "       [-0.25231799,  0.01472339],\n",
       "       [ 0.04093294, -0.28159648],\n",
       "       [-1.03432047,  0.75552308],\n",
       "       [-0.64331923,  1.4074268 ],\n",
       "       [ 0.33418387,  0.04435538],\n",
       "       [ 0.13868325, -0.34086046],\n",
       "       [ 1.40943729,  2.00006655],\n",
       "       [-0.05681737,  1.97043456],\n",
       "       [ 1.89818884,  1.52595475],\n",
       "       [-0.54556892, -1.55577194],\n",
       "       [-1.13207078,  1.4074268 ],\n",
       "       [-0.15456768, -0.22233251],\n",
       "       [-1.3275714 , -0.4593884 ],\n",
       "       [-1.03432047, -0.37049244],\n",
       "       [-1.91407326, -0.07417257],\n",
       "       [ 1.60493791,  1.11110693],\n",
       "       [ 1.60493791,  0.99257898],\n",
       "       [-0.25231799,  0.60736314],\n",
       "       [ 0.72518511, -1.31871604],\n",
       "       [ 0.82293543, -1.43724399],\n",
       "       [ 1.40943729,  1.28889885],\n",
       "       [-0.54556892,  1.46669078],\n",
       "       [-0.74106954,  1.34816283],\n",
       "       [-0.64331923,  0.16288333],\n",
       "       [ 0.23643356, -0.28159648],\n",
       "       [-0.3500683 ,  0.04435538],\n",
       "       [ 0.92068574,  2.17785847],\n",
       "       [-1.03432047,  0.57773115],\n",
       "       [-1.13207078,  0.31104327],\n",
       "       [-0.3500683 , -0.81497225],\n",
       "       [-1.81632295,  0.42957122],\n",
       "       [-1.81632295,  0.16288333],\n",
       "       [ 0.43193418, -0.19270052],\n",
       "       [-0.25231799, -0.4593884 ],\n",
       "       [ 0.33418387,  0.04435538],\n",
       "       [ 0.43193418,  0.28141128],\n",
       "       [-1.13207078, -1.14092411],\n",
       "       [-1.03432047, -0.40012443],\n",
       "       [ 0.82293543, -1.14092411],\n",
       "       [-0.25231799, -0.31122847],\n",
       "       [-1.62082233, -1.61503591],\n",
       "       [-0.44781861, -0.87423623],\n",
       "       [ 0.33418387, -0.31122847],\n",
       "       [ 1.80043853,  1.85190661],\n",
       "       [ 0.23643356,  0.01472339],\n",
       "       [ 0.04093294, -0.60754834],\n",
       "       [-0.74106954,  0.25177929],\n",
       "       [ 0.92068574, -0.6964443 ],\n",
       "       [-0.93657016,  0.39993923],\n",
       "       [-0.83881985, -0.6964443 ],\n",
       "       [-1.42532171, -0.13343654],\n",
       "       [ 0.92068574, -1.08166014],\n",
       "       [ 1.01843605,  0.10361936],\n",
       "       [ 0.43193418, -0.51865238],\n",
       "       [ 0.92068574, -1.34834803],\n",
       "       [-1.71857264,  0.34067526],\n",
       "       [-1.81632295, -1.34834803],\n",
       "       [ 2.09368946, -0.84460424],\n",
       "       [-0.54556892, -1.55577194],\n",
       "       [ 0.92068574,  1.02221097],\n",
       "       [ 0.43193418,  0.13325134],\n",
       "       [ 0.82293543,  0.75552308],\n",
       "       [ 0.92068574, -0.57791635],\n",
       "       [ 0.33418387,  0.04435538],\n",
       "       [ 0.52968449,  1.22963488],\n",
       "       [-0.93657016,  0.48883519],\n",
       "       [-0.25231799,  0.13325134],\n",
       "       [ 1.01843605,  2.08896251],\n",
       "       [-0.83881985, -0.28159648],\n",
       "       [-1.13207078,  0.28141128],\n",
       "       [-1.13207078, -0.81497225],\n",
       "       [-0.25231799,  0.07398737],\n",
       "       [-0.93657016,  0.25177929],\n",
       "       [-0.93657016, -0.34086046],\n",
       "       [ 0.92068574, -1.407612  ],\n",
       "       [ 0.92068574,  1.08147494],\n",
       "       [ 0.23643356,  0.22214731],\n",
       "       [-1.42532171, -1.25945206],\n",
       "       [ 1.99593915, -1.407612  ],\n",
       "       [ 0.13868325,  1.52595475],\n",
       "       [-0.44781861, -0.57791635],\n",
       "       [ 1.40943729, -0.96313219],\n",
       "       [ 0.92068574,  1.25926686],\n",
       "       [ 0.43193418,  0.57773115],\n",
       "       [ 0.72518511, -1.43724399],\n",
       "       [ 2.19143977,  0.933315  ],\n",
       "       [ 1.01843605, -1.11129213],\n",
       "       [-1.52307202, -0.4593884 ],\n",
       "       [-0.74106954, -1.6446679 ],\n",
       "       [-1.13207078, -1.20018809],\n",
       "       [-0.44781861, -0.04454058],\n",
       "       [-0.05681737,  0.66662712],\n",
       "       [ 1.01843605,  0.57773115],\n",
       "       [-0.54556892,  1.91117059],\n",
       "       [-1.71857264,  0.10361936],\n",
       "       [-0.15456768,  1.4074268 ],\n",
       "       [-0.25231799, -0.60754834],\n",
       "       [-1.13207078,  0.04435538],\n",
       "       [-0.93657016,  0.42957122],\n",
       "       [ 0.92068574, -0.63718033],\n",
       "       [ 0.23643356, -0.40012443],\n",
       "       [ 0.33418387, -0.54828437],\n",
       "       [-0.05681737, -0.25196449],\n",
       "       [ 0.13868325,  0.19251532],\n",
       "       [-0.74106954, -1.58540393],\n",
       "       [-0.25231799,  0.51846718],\n",
       "       [ 2.19143977, -1.08166014],\n",
       "       [ 1.11618636, -1.25945206],\n",
       "       [-0.05681737,  2.17785847],\n",
       "       [-0.25231799,  0.04435538],\n",
       "       [ 0.43193418,  0.28141128],\n",
       "       [-0.25231799,  0.25177929],\n",
       "       [ 1.01843605, -0.87423623],\n",
       "       [ 1.11618636, -1.25945206],\n",
       "       [-0.25231799,  2.26675444],\n",
       "       [-0.15456768, -1.11129213],\n",
       "       [-1.91407326,  0.34067526],\n",
       "       [ 2.19143977, -0.84460424],\n",
       "       [ 0.23643356, -0.31122847],\n",
       "       [ 1.11618636, -0.9335002 ],\n",
       "       [ 1.80043853,  0.99257898],\n",
       "       [ 0.04093294, -0.34086046],\n",
       "       [-1.81632295, -0.01490859],\n",
       "       [ 0.04093294,  0.01472339],\n",
       "       [ 1.5071876 ,  2.14822649],\n",
       "       [-0.15456768,  2.17785847],\n",
       "       [ 0.23643356,  0.13325134],\n",
       "       [ 0.43193418, -0.48902039],\n",
       "       [-0.93657016, -0.4593884 ],\n",
       "       [-0.25231799,  0.04435538],\n",
       "       [-0.15456768,  0.84441904],\n",
       "       [-1.03432047, -0.48902039],\n",
       "       [-1.42532171, -0.66681232],\n",
       "       [ 0.13868325,  0.07398737],\n",
       "       [-0.44781861,  1.25926686],\n",
       "       [ 0.52968449,  1.85190661],\n",
       "       [ 0.13868325, -0.28159648],\n",
       "       [-0.05681737,  0.13325134],\n",
       "       [ 2.09368946,  0.37030724],\n",
       "       [-0.3500683 , -0.81497225],\n",
       "       [ 0.43193418,  0.99257898],\n",
       "       [ 1.5071876 , -1.08166014],\n",
       "       [-0.15456768, -0.54828437],\n",
       "       [-1.03432047, -1.58540393],\n",
       "       [ 0.82293543,  0.51846718],\n",
       "       [ 0.92068574, -1.49650796],\n",
       "       [ 0.82293543,  0.34067526],\n",
       "       [ 0.13868325, -0.84460424],\n",
       "       [-0.3500683 ,  1.22963488],\n",
       "       [ 1.99593915, -0.96313219],\n",
       "       [-1.3275714 , -1.14092411],\n",
       "       [ 0.33418387,  0.48883519],\n",
       "       [-1.22982109,  0.57773115],\n",
       "       [ 0.13868325, -0.84460424],\n",
       "       [-0.93657016,  1.55558674],\n",
       "       [-0.44781861, -0.31122847],\n",
       "       [-0.05681737,  0.19251532],\n",
       "       [-1.3275714 ,  0.39993923],\n",
       "       [ 1.70268822,  1.76301065],\n",
       "       [ 1.60493791, -1.31871604],\n",
       "       [-1.13207078, -0.54828437],\n",
       "       [ 0.13868325,  1.8815386 ],\n",
       "       [ 0.33418387,  0.01472339],\n",
       "       [-1.22982109, -1.43724399],\n",
       "       [-0.25231799, -0.60754834],\n",
       "       [ 1.11618636,  0.4592032 ],\n",
       "       [-0.15456768, -0.48902039],\n",
       "       [ 0.82293543, -1.25945206],\n",
       "       [ 1.11618636,  0.54809917],\n",
       "       [-0.25231799, -0.96313219],\n",
       "       [ 1.99593915,  0.90368302],\n",
       "       [ 0.23643356,  0.13325134],\n",
       "       [-0.74106954, -0.63718033],\n",
       "       [-0.83881985, -0.81497225],\n",
       "       [ 0.33418387, -0.34086046],\n",
       "       [-0.74106954,  1.08147494],\n",
       "       [ 0.33418387,  0.04435538],\n",
       "       [ 0.04093294, -0.60754834],\n",
       "       [-0.83881985, -1.25945206],\n",
       "       [-0.3500683 ,  1.31853084],\n",
       "       [ 0.43193418,  0.07398737],\n",
       "       [ 2.09368946,  0.51846718],\n",
       "       [ 1.40943729,  0.57773115],\n",
       "       [-1.71857264,  0.4592032 ],\n",
       "       [-0.25231799, -1.49650796],\n",
       "       [-1.91407326, -0.54828437],\n",
       "       [ 0.04093294, -0.28159648],\n",
       "       [ 1.01843605,  1.43705879],\n",
       "       [-1.91407326,  0.4592032 ],\n",
       "       [ 0.43193418, -0.48902039],\n",
       "       [ 0.72518511,  1.79264264],\n",
       "       [-1.71857264,  0.34067526],\n",
       "       [-0.54556892,  0.4592032 ],\n",
       "       [-0.25231799,  0.13325134],\n",
       "       [-0.05681737,  0.28141128],\n",
       "       [-1.03432047,  0.54809917],\n",
       "       [-0.25231799, -1.28908405],\n",
       "       [-0.25231799, -0.78534027],\n",
       "       [ 0.23643356, -0.40012443],\n",
       "       [ 1.01843605, -1.20018809],\n",
       "       [-0.3500683 , -1.34834803],\n",
       "       [ 0.43193418,  2.32601841],\n",
       "       [-1.13207078,  0.4592032 ],\n",
       "       [ 0.13868325,  1.8815386 ],\n",
       "       [ 1.21393667, -1.02239617],\n",
       "       [-0.64331923, -1.55577194],\n",
       "       [-0.15456768, -0.31122847],\n",
       "       [ 0.04093294, -0.16306853],\n",
       "       [-0.93657016, -0.78534027],\n",
       "       [-1.03432047, -0.37049244],\n",
       "       [-1.81632295, -1.31871604],\n",
       "       [-0.25231799, -0.37049244],\n",
       "       [-1.52307202,  0.31104327],\n",
       "       [-0.05681737, -0.40012443],\n",
       "       [ 0.13868325,  0.13325134],\n",
       "       [ 1.11618636,  0.10361936],\n",
       "       [-0.15456768, -0.60754834],\n",
       "       [-0.05681737,  2.23712245],\n",
       "       [ 0.43193418,  1.11110693],\n",
       "       [ 1.5071876 ,  0.99257898],\n",
       "       [ 1.11618636, -1.02239617],\n",
       "       [ 2.19143977, -0.84460424],\n",
       "       [ 0.04093294,  0.28141128],\n",
       "       [-0.25231799, -1.34834803],\n",
       "       [-0.74106954,  0.28141128],\n",
       "       [ 1.89818884, -1.11129213],\n",
       "       [-1.03432047,  0.51846718],\n",
       "       [ 0.6274348 , -0.9335002 ],\n",
       "       [ 0.82293543, -0.34086046],\n",
       "       [ 1.01843605,  1.79264264],\n",
       "       [-1.22982109,  0.25177929],\n",
       "       [-0.05681737, -0.54828437],\n",
       "       [-0.93657016, -0.34086046],\n",
       "       [-1.71857264, -1.407612  ],\n",
       "       [-0.25231799, -0.16306853],\n",
       "       [-1.42532171,  0.34067526],\n",
       "       [-1.3275714 , -1.52613995],\n",
       "       [-1.22982109, -1.11129213],\n",
       "       [-0.05681737,  0.28141128],\n",
       "       [ 0.13868325,  0.01472339],\n",
       "       [-1.13207078, -1.6446679 ],\n",
       "       [ 0.33418387, -0.22233251],\n",
       "       [-1.13207078,  0.28141128],\n",
       "       [-1.03432047,  1.97043456],\n",
       "       [ 0.43193418, -0.16306853],\n",
       "       [-1.03432047, -1.49650796],\n",
       "       [-0.74106954,  1.91117059],\n",
       "       [ 1.60493791, -0.01490859],\n",
       "       [ 0.23643356,  0.04435538],\n",
       "       [-0.83881985,  0.37030724],\n",
       "       [ 1.99593915,  2.17785847],\n",
       "       [-1.81632295, -1.52613995],\n",
       "       [ 0.92068574, -0.60754834],\n",
       "       [-0.25231799, -0.51865238],\n",
       "       [ 1.21393667, -0.78534027],\n",
       "       [-0.44781861, -0.81497225],\n",
       "       [-0.25231799, -0.34086046],\n",
       "       [-0.83881985,  0.28141128]])"
      ]
     },
     "execution_count": 9,
     "metadata": {},
     "output_type": "execute_result"
    }
   ],
   "source": [
    "X_train=scaler.fit_transform(X_train)\n",
    "X_train"
   ]
  },
  {
   "cell_type": "code",
   "execution_count": 10,
   "metadata": {},
   "outputs": [
    {
     "data": {
      "text/plain": [
       "array([[ 0.26817656, -0.61839049],\n",
       "       [-1.40243153, -1.13134113],\n",
       "       [-0.87487108, -0.84636856],\n",
       "       [ 0.09232308,  1.11994223],\n",
       "       [ 0.44403005,  1.77537916],\n",
       "       [-1.05072456,  0.49300256],\n",
       "       [ 1.67500443, -0.19093163],\n",
       "       [ 0.88366376, -1.07434662],\n",
       "       [ 0.26817656, -0.41890969],\n",
       "       [-0.17145715,  1.68988738],\n",
       "       [-1.57828502, -0.87486581],\n",
       "       [-0.25938389, -0.16243437],\n",
       "       [ 1.14744398,  2.25983254],\n",
       "       [ 0.70781027, -0.73237952],\n",
       "       [ 0.26817656, -1.04584936],\n",
       "       [ 0.70781027,  0.20802998],\n",
       "       [ 0.88366376,  1.91786545],\n",
       "       [ 0.00439634, -0.33341792],\n",
       "       [-0.61109086, -0.01994808],\n",
       "       [-0.0835304 ,  0.35051627],\n",
       "       [ 0.88366376,  0.83496965],\n",
       "       [-0.52316411,  2.37382157],\n",
       "       [ 0.88366376, -0.96035759],\n",
       "       [-0.25938389, -0.2764234 ],\n",
       "       [-0.87487108,  0.63548885],\n",
       "       [-1.40243153, -1.38781645],\n",
       "       [-0.61109086, -1.47330823],\n",
       "       [ 1.85085792, -1.07434662],\n",
       "       [-1.31450479, -0.10543985],\n",
       "       [ 0.61988353, -1.27382742],\n",
       "       [-1.57828502, -0.50440146],\n",
       "       [ 0.26817656,  0.37901353],\n",
       "       [-1.05072456, -0.90336307],\n",
       "       [-0.61109086,  0.63548885],\n",
       "       [ 0.3561033 , -0.04844534],\n",
       "       [ 1.23537072, -1.30232468],\n",
       "       [ 0.18024982,  2.14584351],\n",
       "       [-1.13865131,  0.57849433],\n",
       "       [ 0.61988353,  0.35051627],\n",
       "       [-0.0835304 , -0.39041243],\n",
       "       [ 1.49915095,  1.66139013],\n",
       "       [-1.49035827,  0.03704644],\n",
       "       [-1.05072456, -1.41631371],\n",
       "       [ 1.85085792,  0.2650245 ],\n",
       "       [-0.25938389, -0.78937404],\n",
       "       [-1.49035827,  0.60699159],\n",
       "       [-1.49035827,  0.15103547],\n",
       "       [ 0.00439634,  1.29092578],\n",
       "       [ 0.79573701, -1.04584936],\n",
       "       [-0.43523737, -1.10284387],\n",
       "       [-0.61109086, -0.93186033],\n",
       "       [ 1.58707769, -0.19093163],\n",
       "       [ 1.93878466, -0.58989324],\n",
       "       [-0.25938389,  0.86346691],\n",
       "       [-1.66621176, -1.30232468],\n",
       "       [ 1.93878466,  0.4645053 ],\n",
       "       [ 1.32329746,  0.15103547],\n",
       "       [ 0.18024982, -0.21942888],\n",
       "       [ 0.70781027,  0.35051627],\n",
       "       [ 0.61988353, -0.98885484],\n",
       "       [ 0.9715905 ,  0.60699159],\n",
       "       [ 1.49915095, -0.78937404],\n",
       "       [ 0.18024982, -0.2764234 ],\n",
       "       [-1.22657805,  0.63548885],\n",
       "       [-0.96279782,  0.49300256],\n",
       "       [-0.25938389, -1.27382742],\n",
       "       [-1.7541385 , -0.64688775],\n",
       "       [ 0.18024982, -0.04844534],\n",
       "       [-1.05072456, -1.47330823],\n",
       "       [-0.52316411,  0.94895868],\n",
       "       [ 1.76293117,  0.80647239],\n",
       "       [-0.25938389, -1.24533016],\n",
       "       [-0.0835304 ,  0.20802998],\n",
       "       [-0.78694434,  0.23652724],\n",
       "       [ 0.61988353, -0.61839049],\n",
       "       [-0.17145715,  1.66139013],\n",
       "       [-1.13865131,  0.37901353],\n",
       "       [-0.78694434, -0.67538501],\n",
       "       [ 0.09232308,  0.83496965],\n",
       "       [ 1.23537072,  2.37382157]])"
      ]
     },
     "execution_count": 10,
     "metadata": {},
     "output_type": "execute_result"
    }
   ],
   "source": [
    "X_test=scaler.fit_transform(X_test)\n",
    "X_test"
   ]
  },
  {
   "cell_type": "code",
   "execution_count": 11,
   "metadata": {},
   "outputs": [
    {
     "data": {
      "text/plain": [
       "17.88854381999832"
      ]
     },
     "execution_count": 11,
     "metadata": {},
     "output_type": "execute_result"
    }
   ],
   "source": [
    "# calculating the value of k\n",
    "\n",
    "# method 1-\n",
    "np.sqrt(X_train.shape[0])"
   ]
  },
  {
   "cell_type": "code",
   "execution_count": 12,
   "metadata": {},
   "outputs": [],
   "source": [
    "k=17"
   ]
  },
  {
   "cell_type": "code",
   "execution_count": 13,
   "metadata": {},
   "outputs": [],
   "source": [
    "from sklearn.neighbors import KNeighborsClassifier\n",
    "knn=KNeighborsClassifier(n_neighbors=k)"
   ]
  },
  {
   "cell_type": "code",
   "execution_count": 14,
   "metadata": {},
   "outputs": [
    {
     "data": {
      "text/plain": [
       "KNeighborsClassifier(algorithm='auto', leaf_size=30, metric='minkowski',\n",
       "                     metric_params=None, n_jobs=None, n_neighbors=17, p=2,\n",
       "                     weights='uniform')"
      ]
     },
     "execution_count": 14,
     "metadata": {},
     "output_type": "execute_result"
    }
   ],
   "source": [
    "knn.fit(X_train,y_train)\n",
    "\n"
   ]
  },
  {
   "cell_type": "code",
   "execution_count": 15,
   "metadata": {},
   "outputs": [],
   "source": [
    "y_pred=knn.predict(X_test)"
   ]
  },
  {
   "cell_type": "code",
   "execution_count": 16,
   "metadata": {},
   "outputs": [
    {
     "data": {
      "text/plain": [
       "(80,)"
      ]
     },
     "execution_count": 16,
     "metadata": {},
     "output_type": "execute_result"
    }
   ],
   "source": [
    "y_pred.shape"
   ]
  },
  {
   "cell_type": "code",
   "execution_count": 17,
   "metadata": {},
   "outputs": [
    {
     "data": {
      "text/plain": [
       "(80,)"
      ]
     },
     "execution_count": 17,
     "metadata": {},
     "output_type": "execute_result"
    }
   ],
   "source": [
    "y_test.shape"
   ]
  },
  {
   "cell_type": "code",
   "execution_count": 18,
   "metadata": {},
   "outputs": [
    {
     "data": {
      "text/plain": [
       "0.9375"
      ]
     },
     "execution_count": 18,
     "metadata": {},
     "output_type": "execute_result"
    }
   ],
   "source": [
    "from sklearn.metrics import accuracy_score\n",
    "accuracy_score(y_test,y_pred)"
   ]
  },
  {
   "cell_type": "code",
   "execution_count": 28,
   "metadata": {},
   "outputs": [
    {
     "data": {
      "text/plain": [
       "array([[45,  1],\n",
       "       [ 4, 30]], dtype=int64)"
      ]
     },
     "execution_count": 28,
     "metadata": {},
     "output_type": "execute_result"
    }
   ],
   "source": [
    "from sklearn.metrics import confusion_matrix\n",
    "confusion_matrix(y_test,y_pred)"
   ]
  },
  {
   "cell_type": "code",
   "execution_count": 20,
   "metadata": {},
   "outputs": [],
   "source": [
    "# 2nd method for findind the value of k\n",
    "\n",
    "accuracy=[]\n",
    "\n",
    "for i in range(1,26):\n",
    "    knn=KNeighborsClassifier(n_neighbors=i)\n",
    "    knn.fit(X_train,y_train)\n",
    "    accuracy.append(accuracy_score(y_test,knn.predict(X_test)))"
   ]
  },
  {
   "cell_type": "code",
   "execution_count": 21,
   "metadata": {},
   "outputs": [
    {
     "data": {
      "text/plain": [
       "[0.85,\n",
       " 0.775,\n",
       " 0.9375,\n",
       " 0.925,\n",
       " 0.9375,\n",
       " 0.925,\n",
       " 0.9375,\n",
       " 0.9125,\n",
       " 0.925,\n",
       " 0.9,\n",
       " 0.9375,\n",
       " 0.9375,\n",
       " 0.9375,\n",
       " 0.9375,\n",
       " 0.9375,\n",
       " 0.9375,\n",
       " 0.9375,\n",
       " 0.9125,\n",
       " 0.925,\n",
       " 0.9125,\n",
       " 0.9125,\n",
       " 0.9125,\n",
       " 0.9125,\n",
       " 0.9125,\n",
       " 0.9125]"
      ]
     },
     "execution_count": 21,
     "metadata": {},
     "output_type": "execute_result"
    }
   ],
   "source": [
    "accuracy"
   ]
  },
  {
   "cell_type": "code",
   "execution_count": 22,
   "metadata": {},
   "outputs": [
    {
     "data": {
      "text/plain": [
       "[<matplotlib.lines.Line2D at 0x254216cc320>]"
      ]
     },
     "execution_count": 22,
     "metadata": {},
     "output_type": "execute_result"
    },
    {
     "data": {
      "image/png": "[encoded data removed]",
      "text/plain": [
       "<Figure size 432x288 with 1 Axes>"
      ]
     },
     "metadata": {
      "needs_background": "light"
     },
     "output_type": "display_data"
    }
   ],
   "source": [
    "plt.plot(range(1,26),accuracy)"
   ]
  },
  {
   "cell_type": "code",
   "execution_count": 23,
   "metadata": {},
   "outputs": [
    {
     "data": {
      "text/plain": [
       "KNeighborsClassifier(algorithm='auto', leaf_size=30, metric='minkowski',\n",
       "                     metric_params=None, n_jobs=None, n_neighbors=11, p=2,\n",
       "                     weights='uniform')"
      ]
     },
     "execution_count": 23,
     "metadata": {},
     "output_type": "execute_result"
    }
   ],
   "source": [
    "knn=KNeighborsClassifier(n_neighbors=11)\n",
    "knn.fit(X_train,y_train)"
   ]
  },
  {
   "cell_type": "code",
   "execution_count": 24,
   "metadata": {},
   "outputs": [],
   "source": [
    "y_pred=knn.predict(X_test)"
   ]
  },
  {
   "cell_type": "code",
   "execution_count": 25,
   "metadata": {},
   "outputs": [
    {
     "data": {
      "text/plain": [
       "0.9375"
      ]
     },
     "execution_count": 25,
     "metadata": {},
     "output_type": "execute_result"
    }
   ],
   "source": [
    "accuracy_score(y_test,y_pred)"
   ]
  },
  {
   "cell_type": "code",
   "execution_count": 26,
   "metadata": {},
   "outputs": [],
   "source": [
    "def predict_output():\n",
    "    age=int(input(\"enter the age\"))\n",
    "    salary=int(input(\"enyter the salary\"))\n",
    "    \n",
    "    X_new=np.array([[age],[salary]]).reshape(1,2)\n",
    "    X_new=scaler.transform(X_new)\n",
    "    \n",
    "    if knn.predict(X_new)[0]==0:\n",
    "        return \"will not purchase\"\n",
    "    else:\n",
    "        return \"will purchase\"\n",
    "    \n",
    "   "
   ]
  },
  {
   "cell_type": "code",
   "execution_count": 27,
   "metadata": {},
   "outputs": [
    {
     "name": "stdout",
     "output_type": "stream",
     "text": [
      "enter the age26\n",
      "enyter the salary45000\n"
     ]
    },
    {
     "data": {
      "text/plain": [
       "'will not purchase'"
      ]
     },
     "execution_count": 27,
     "metadata": {},
     "output_type": "execute_result"
    }
   ],
   "source": [
    "predict_output()"
   ]
  },
  {
   "cell_type": "code",
   "execution_count": null,
   "metadata": {},
   "outputs": [],
   "source": []
  },
  {
   "cell_type": "code",
   "execution_count": 29,
   "metadata": {},
   "outputs": [],
   "source": [
    "a=np.arange(start=X_train[:,0].min()-1, stop=X_train[:,0].max()+1, step=0.01)\n",
    "b=np.arange(start=X_train[:,1].min()-1, stop=X_train[:,1].max()+1, step=0.01)\n",
    "\n",
    "\n",
    "XX,YY=np.meshgrid(a,b)\n"
   ]
  },
  {
   "cell_type": "code",
   "execution_count": 30,
   "metadata": {},
   "outputs": [
    {
     "data": {
      "text/plain": [
       "array([[-2.91407326, -2.90407326, -2.89407326, ...,  3.16592674,\n",
       "         3.17592674,  3.18592674],\n",
       "       [-2.91407326, -2.90407326, -2.89407326, ...,  3.16592674,\n",
       "         3.17592674,  3.18592674],\n",
       "       [-2.91407326, -2.90407326, -2.89407326, ...,  3.16592674,\n",
       "         3.17592674,  3.18592674],\n",
       "       ...,\n",
       "       [-2.91407326, -2.90407326, -2.89407326, ...,  3.16592674,\n",
       "         3.17592674,  3.18592674],\n",
       "       [-2.91407326, -2.90407326, -2.89407326, ...,  3.16592674,\n",
       "         3.17592674,  3.18592674],\n",
       "       [-2.91407326, -2.90407326, -2.89407326, ...,  3.16592674,\n",
       "         3.17592674,  3.18592674]])"
      ]
     },
     "execution_count": 30,
     "metadata": {},
     "output_type": "execute_result"
    }
   ],
   "source": [
    "XX"
   ]
  },
  {
   "cell_type": "code",
   "execution_count": 31,
   "metadata": {},
   "outputs": [
    {
     "data": {
      "text/plain": [
       "array([[-2.6446679, -2.6446679, -2.6446679, ..., -2.6446679, -2.6446679,\n",
       "        -2.6446679],\n",
       "       [-2.6346679, -2.6346679, -2.6346679, ..., -2.6346679, -2.6346679,\n",
       "        -2.6346679],\n",
       "       [-2.6246679, -2.6246679, -2.6246679, ..., -2.6246679, -2.6246679,\n",
       "        -2.6246679],\n",
       "       ...,\n",
       "       [ 3.3053321,  3.3053321,  3.3053321, ...,  3.3053321,  3.3053321,\n",
       "         3.3053321],\n",
       "       [ 3.3153321,  3.3153321,  3.3153321, ...,  3.3153321,  3.3153321,\n",
       "         3.3153321],\n",
       "       [ 3.3253321,  3.3253321,  3.3253321, ...,  3.3253321,  3.3253321,\n",
       "         3.3253321]])"
      ]
     },
     "execution_count": 31,
     "metadata": {},
     "output_type": "execute_result"
    }
   ],
   "source": [
    "YY"
   ]
  },
  {
   "cell_type": "code",
   "execution_count": 33,
   "metadata": {},
   "outputs": [],
   "source": [
    "# classifying every point on the meshgrid\n",
    "\n",
    "#print(YY[0][0])\n",
    "#print(XX[0][0])\n",
    "#knn.predict(np.array([]))\n",
    "\n",
    "\n",
    "input_array=np.array([XX.ravel(),YY.ravel()]).T            # ravel convert 2d array into 1d array ,here T for transpose\n",
    "\n",
    "labels=knn.predict(input_array)"
   ]
  },
  {
   "cell_type": "code",
   "execution_count": 15,
   "metadata": {},
   "outputs": [
    {
     "data": {
      "text/plain": [
       "array([0, 0, 0, ..., 0, 0, 0], dtype=int64)"
      ]
     },
     "execution_count": 15,
     "metadata": {},
     "output_type": "execute_result"
    }
   ],
   "source": [
    "labels"
   ]
  },
  {
   "cell_type": "code",
   "execution_count": 36,
   "metadata": {},
   "outputs": [
    {
     "data": {
      "text/plain": [
       "<matplotlib.contour.QuadContourSet at 0x25422270470>"
      ]
     },
     "execution_count": 36,
     "metadata": {},
     "output_type": "execute_result"
    },
    {
     "data": {
      "image/png": "[encoded data removed]",
      "text/plain": [
       "<Figure size 432x288 with 1 Axes>"
      ]
     },
     "metadata": {
      "needs_background": "light"
     },
     "output_type": "display_data"
    }
   ],
   "source": [
    "# plotting the array as an image\n",
    "\n",
    "plt.contourf(XX,YY,labels.reshape(XX.shape))"
   ]
  },
  {
   "cell_type": "code",
   "execution_count": 37,
   "metadata": {},
   "outputs": [
    {
     "data": {
      "text/plain": [
       "<matplotlib.collections.PathCollection at 0x254236a7c88>"
      ]
     },
     "execution_count": 37,
     "metadata": {},
     "output_type": "execute_result"
    },
    {
     "data": {
      "image/png": "[encoded data removed]",
      "text/plain": [
       "<Figure size 432x288 with 1 Axes>"
      ]
     },
     "metadata": {
      "needs_background": "light"
     },
     "output_type": "display_data"
    }
   ],
   "source": [
    "# plotting all the training data on the plot\n",
    "\n",
    "\n",
    "plt.contourf(XX,YY,labels.reshape(XX.shape))\n",
    "plt.scatter(X_train[:,0],X_train[:,1])"
   ]
  },
  {
   "cell_type": "code",
   "execution_count": 35,
   "metadata": {},
   "outputs": [
    {
     "data": {
      "text/plain": [
       "<matplotlib.collections.PathCollection at 0x2542220ad30>"
      ]
     },
     "execution_count": 35,
     "metadata": {},
     "output_type": "execute_result"
    },
    {
     "data": {
      "image/png": "[encoded data removed]",
      "text/plain": [
       "<Figure size 432x288 with 1 Axes>"
      ]
     },
     "metadata": {
      "needs_background": "light"
     },
     "output_type": "display_data"
    }
   ],
   "source": [
    "plt.contourf(XX,YY,labels.reshape(XX.shape),alpha=0.7)\n",
    "plt.scatter(X_train[:,0],X_train[:,1],c=y_train)"
   ]
  },
  {
   "cell_type": "code",
   "execution_count": null,
   "metadata": {},
   "outputs": [],
   "source": []
  }
 ],
 "metadata": {
  "kernelspec": {
   "display_name": "Python 3",
   "language": "python",
   "name": "python3"
  },
  "language_info": {
   "codemirror_mode": {
    "name": "ipython",
    "version": 3
   },
   "file_extension": ".py",
   "mimetype": "text/x-python",
   "name": "python",
   "nbconvert_exporter": "python",
   "pygments_lexer": "ipython3",
   "version": "3.7.6"
  }
 },
 "nbformat": 4,
 "nbformat_minor": 2
}
